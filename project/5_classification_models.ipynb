{
 "cells": [
  {
   "cell_type": "markdown",
   "metadata": {},
   "source": [
    "# Machine Learning on PGA Tour - Classification"
   ]
  },
  {
   "cell_type": "markdown",
   "metadata": {},
   "source": [
    "In this notebook I am going to combine all the stages of the machine learning problem to predict the PGA Tour results using two classification methods."
   ]
  },
  {
   "cell_type": "code",
   "execution_count": 2,
   "metadata": {},
   "outputs": [],
   "source": [
    "# IMPORTS\n",
    "import pandas as pd\n",
    "import numpy as np\n",
    "import matplotlib.pyplot as plt\n",
    "import seaborn as sns\n",
    "from sklearn.preprocessing import StandardScaler\n",
    "from sklearn.model_selection import KFold, train_test_split\n",
    "from sklearn import metrics\n",
    "from sklearn.linear_model import LogisticRegression\n",
    "sns.set()"
   ]
  },
  {
   "cell_type": "markdown",
   "metadata": {},
   "source": [
    "Read the data:"
   ]
  },
  {
   "cell_type": "code",
   "execution_count": 6,
   "metadata": {},
   "outputs": [
    {
     "data": {
      "text/html": [
       "<div>\n",
       "<style scoped>\n",
       "    .dataframe tbody tr th:only-of-type {\n",
       "        vertical-align: middle;\n",
       "    }\n",
       "\n",
       "    .dataframe tbody tr th {\n",
       "        vertical-align: top;\n",
       "    }\n",
       "\n",
       "    .dataframe thead th {\n",
       "        text-align: right;\n",
       "    }\n",
       "</style>\n",
       "<table border=\"1\" class=\"dataframe\">\n",
       "  <thead>\n",
       "    <tr style=\"text-align: right;\">\n",
       "      <th></th>\n",
       "      <th>Name</th>\n",
       "      <th>Season</th>\n",
       "      <th>Ranking</th>\n",
       "      <th>Driving Distance</th>\n",
       "      <th>Driving Accuracy</th>\n",
       "      <th>Club Head Speed</th>\n",
       "      <th>Ball Speed</th>\n",
       "      <th>Spin Rate</th>\n",
       "      <th>Eligible</th>\n",
       "    </tr>\n",
       "  </thead>\n",
       "  <tbody>\n",
       "    <tr>\n",
       "      <th>0</th>\n",
       "      <td>Justin Thomas</td>\n",
       "      <td>2017</td>\n",
       "      <td>1</td>\n",
       "      <td>309.1</td>\n",
       "      <td>54.64</td>\n",
       "      <td>116.52</td>\n",
       "      <td>174.84</td>\n",
       "      <td>2320.1</td>\n",
       "      <td>1.0</td>\n",
       "    </tr>\n",
       "    <tr>\n",
       "      <th>1</th>\n",
       "      <td>Jordan Spieth</td>\n",
       "      <td>2017</td>\n",
       "      <td>2</td>\n",
       "      <td>294.6</td>\n",
       "      <td>58.67</td>\n",
       "      <td>112.66</td>\n",
       "      <td>168.55</td>\n",
       "      <td>2439.6</td>\n",
       "      <td>1.0</td>\n",
       "    </tr>\n",
       "    <tr>\n",
       "      <th>2</th>\n",
       "      <td>Xander Schauffele</td>\n",
       "      <td>2017</td>\n",
       "      <td>3</td>\n",
       "      <td>306.5</td>\n",
       "      <td>58.80</td>\n",
       "      <td>118.33</td>\n",
       "      <td>174.24</td>\n",
       "      <td>2518.8</td>\n",
       "      <td>1.0</td>\n",
       "    </tr>\n",
       "    <tr>\n",
       "      <th>3</th>\n",
       "      <td>Dustin Johnson</td>\n",
       "      <td>2017</td>\n",
       "      <td>4</td>\n",
       "      <td>314.8</td>\n",
       "      <td>54.02</td>\n",
       "      <td>121.45</td>\n",
       "      <td>180.66</td>\n",
       "      <td>2499.9</td>\n",
       "      <td>1.0</td>\n",
       "    </tr>\n",
       "    <tr>\n",
       "      <th>4</th>\n",
       "      <td>Jon Rahm</td>\n",
       "      <td>2017</td>\n",
       "      <td>5</td>\n",
       "      <td>305.3</td>\n",
       "      <td>58.27</td>\n",
       "      <td>116.42</td>\n",
       "      <td>174.53</td>\n",
       "      <td>2193.0</td>\n",
       "      <td>1.0</td>\n",
       "    </tr>\n",
       "  </tbody>\n",
       "</table>\n",
       "</div>"
      ],
      "text/plain": [
       "                Name  Season  Ranking  Driving Distance  Driving Accuracy  \\\n",
       "0      Justin Thomas    2017        1             309.1             54.64   \n",
       "1      Jordan Spieth    2017        2             294.6             58.67   \n",
       "2  Xander Schauffele    2017        3             306.5             58.80   \n",
       "3     Dustin Johnson    2017        4             314.8             54.02   \n",
       "4           Jon Rahm    2017        5             305.3             58.27   \n",
       "\n",
       "   Club Head Speed  Ball Speed  Spin Rate  Eligible  \n",
       "0           116.52      174.84     2320.1       1.0  \n",
       "1           112.66      168.55     2439.6       1.0  \n",
       "2           118.33      174.24     2518.8       1.0  \n",
       "3           121.45      180.66     2499.9       1.0  \n",
       "4           116.42      174.53     2193.0       1.0  "
      ]
     },
     "execution_count": 6,
     "metadata": {},
     "output_type": "execute_result"
    }
   ],
   "source": [
    "df = pd.read_csv(\"../data/pga_data.csv\")\n",
    "df.head(5)"
   ]
  },
  {
   "cell_type": "markdown",
   "metadata": {},
   "source": [
    "Function for data augmentation:"
   ]
  },
  {
   "cell_type": "code",
   "execution_count": 44,
   "metadata": {},
   "outputs": [],
   "source": [
    "def augment_data(X, y):\n",
    "    aug_X = []\n",
    "    aug_y = []\n",
    "    for i in range(X.shape[0]):\n",
    "        if y[i] == 1:\n",
    "            for _ in range(3):\n",
    "                perturbations = np.random.standard_normal(5)\n",
    "                aug_X.append(X[i] + perturbations)\n",
    "                aug_y.append(1)\n",
    "        else:\n",
    "            aug_X.append(X[i])\n",
    "            aug_y.append(y[i])\n",
    "    return np.array(aug_X), np.array(aug_y)"
   ]
  },
  {
   "cell_type": "markdown",
   "metadata": {},
   "source": [
    "Cross-validation:"
   ]
  },
  {
   "cell_type": "code",
   "execution_count": 56,
   "metadata": {},
   "outputs": [
    {
     "name": "stdout",
     "output_type": "stream",
     "text": [
      "[[218 114]\n",
      " [108 225]]\n",
      "[[67 20]\n",
      " [ 6 18]]\n",
      "[[231 100]\n",
      " [ 94 242]]\n",
      "[[54 34]\n",
      " [11 12]]\n",
      "[[226 108]\n",
      " [126 201]]\n",
      "[[57 28]\n",
      " [ 5 21]]\n",
      "[[233 104]\n",
      " [101 217]]\n",
      "[[58 24]\n",
      " [ 9 20]]\n",
      "[[243  99]\n",
      " [100 206]]\n",
      "[[49 28]\n",
      " [10 23]]\n"
     ]
    }
   ],
   "source": [
    "X = df.iloc[:, 3:8].to_numpy()\n",
    "y = df.iloc[:, 8].to_numpy()\n",
    "\n",
    "cv = KFold(n_splits=5, random_state=42, shuffle=True)\n",
    "\n",
    "validation_errors = []\n",
    "validation_accuracies = []\n",
    "validation_f1s = []\n",
    "\n",
    "training_errors = []\n",
    "training_accuracies = []\n",
    "training_f1s = []\n",
    "\n",
    "X_rem, X_test, y_rem, y_test = train_test_split(X, y, test_size=0.1, random_state=42)\n",
    "\n",
    "for train_index, val_index in cv.split(y_rem):\n",
    "    X_train, X_val = X_rem[train_index], X_rem[val_index]\n",
    "    y_train, y_val = y_rem[train_index], y_rem[val_index]\n",
    "\n",
    "    # AUGMENT THE TRAINING DATA\n",
    "    X_train_aug, y_train_aug = augment_data(X_train, y_train)\n",
    "\n",
    "    # STANDARDIZE\n",
    "    scaler = StandardScaler()\n",
    "    X_train_final = scaler.fit_transform(X_train_aug)\n",
    "    \n",
    "    # MACHINE LEARNING MODEL\n",
    "    lr = LogisticRegression()\n",
    "    lr.fit(X_train_final, y_train_aug)\n",
    "\n",
    "    # TRAINING ERROR\n",
    "    y_pred_train = lr.predict(X_train_final)\n",
    "    error_train = metrics.log_loss(y_train_aug, y_pred_train)\n",
    "    accuracy_train = metrics.accuracy_score(y_train_aug, y_pred_train)\n",
    "    f1_train = metrics.f1_score(y_train_aug, y_pred_train)\n",
    "    \n",
    "    training_errors.append(error_train)\n",
    "    training_accuracies.append(accuracy_train)\n",
    "    training_f1s.append(f1_train)\n",
    "\n",
    "    # VALIDATION ERROR\n",
    "    X_val_final = scaler.transform(X_val)\n",
    "    y_pred_val = lr.predict(X_val_final)\n",
    "\n",
    "    error = metrics.log_loss(y_val, y_pred_val)\n",
    "    accuracy = metrics.accuracy_score(y_val, y_pred_val)\n",
    "    f1 = metrics.f1_score(y_val, y_pred_val)\n",
    "\n",
    "    validation_errors.append(error)\n",
    "    validation_accuracies.append(accuracy)\n",
    "    validation_f1s.append(f1)\n",
    "\n",
    "    # CONFUSION MATRICES\n",
    "    print(metrics.confusion_matrix(y_train_aug, y_pred_train))\n",
    "    print(metrics.confusion_matrix(y_val, y_pred_val))"
   ]
  },
  {
   "cell_type": "code",
   "execution_count": 57,
   "metadata": {},
   "outputs": [
    {
     "data": {
      "image/png": "[encoded data removed]",
      "text/plain": [
       "<Figure size 432x288 with 1 Axes>"
      ]
     },
     "metadata": {},
     "output_type": "display_data"
    }
   ],
   "source": [
    "plt.hist(training_accuracies);"
   ]
  },
  {
   "cell_type": "code",
   "execution_count": 58,
   "metadata": {},
   "outputs": [
    {
     "data": {
      "image/png": "[encoded data removed]",
      "text/plain": [
       "<Figure size 432x288 with 1 Axes>"
      ]
     },
     "metadata": {},
     "output_type": "display_data"
    }
   ],
   "source": [
    "plt.hist(validation_accuracies);"
   ]
  },
  {
   "cell_type": "code",
   "execution_count": 63,
   "metadata": {},
   "outputs": [
    {
     "data": {
      "text/plain": [
       "11.044067579810502"
      ]
     },
     "execution_count": 63,
     "metadata": {},
     "output_type": "execute_result"
    }
   ],
   "source": [
    "np.mean(training_errors)"
   ]
  },
  {
   "cell_type": "code",
   "execution_count": 64,
   "metadata": {},
   "outputs": [
    {
     "data": {
      "text/plain": [
       "10.912296929727868"
      ]
     },
     "execution_count": 64,
     "metadata": {},
     "output_type": "execute_result"
    }
   ],
   "source": [
    "np.mean(validation_errors)"
   ]
  },
  {
   "cell_type": "markdown",
   "metadata": {},
   "source": [
    "Final model performance:"
   ]
  },
  {
   "cell_type": "code",
   "execution_count": 52,
   "metadata": {},
   "outputs": [
    {
     "name": "stdout",
     "output_type": "stream",
     "text": [
      "[[33 15]\n",
      " [ 3 11]]\n"
     ]
    },
    {
     "data": {
      "text/plain": [
       "(0.7096774193548387, 0.55)"
      ]
     },
     "execution_count": 52,
     "metadata": {},
     "output_type": "execute_result"
    }
   ],
   "source": [
    "# AUGMENT THE TRAINING DATA\n",
    "X_train_aug, y_train_aug = augment_data(X_rem, y_rem)\n",
    "\n",
    "# STANDARDIZE\n",
    "scaler = StandardScaler()\n",
    "X_train_final = scaler.fit_transform(X_train_aug)\n",
    "\n",
    "# Machine learning model\n",
    "lr = LogisticRegression()\n",
    "lr.fit(X_train_final, y_train_aug)\n",
    "\n",
    "X_test_final = scaler.transform(X_test)\n",
    "y_pred = lr.predict(X_test_final)\n",
    "\n",
    "accuracy = metrics.accuracy_score(y_test, y_pred)\n",
    "f1 = metrics.f1_score(y_test, y_pred)\n",
    "print(metrics.confusion_matrix(y_test, y_pred))\n",
    "accuracy, f1"
   ]
  }
 ],
 "metadata": {
  "interpreter": {
   "hash": "5e3a3624b76a35b559955b45dbd4fa82b9b2fc2add1ce294eb094ab8bdd09462"
  },
  "kernelspec": {
   "display_name": "Python 3.9.7 ('pga-classification')",
   "language": "python",
   "name": "python3"
  },
  "language_info": {
   "codemirror_mode": {
    "name": "ipython",
    "version": 3
   },
   "file_extension": ".py",
   "mimetype": "text/x-python",
   "name": "python",
   "nbconvert_exporter": "python",
   "pygments_lexer": "ipython3",
   "version": "3.9.7"
  },
  "orig_nbformat": 4
 },
 "nbformat": 4,
 "nbformat_minor": 2
}
