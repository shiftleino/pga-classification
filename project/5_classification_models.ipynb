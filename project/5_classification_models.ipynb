{
 "cells": [
  {
   "cell_type": "markdown",
   "metadata": {},
   "source": [
    "# Machine Learning on PGA Tour - Classification"
   ]
  },
  {
   "cell_type": "markdown",
   "metadata": {},
   "source": [
    "In this notebook I am going to combine all the stages of the machine learning problem to predict the PGA Tour results using two classification methods."
   ]
  },
  {
   "cell_type": "code",
   "execution_count": 4,
   "metadata": {},
   "outputs": [],
   "source": [
    "# IMPORTS\n",
    "import pandas as pd\n",
    "import numpy as np\n",
    "import matplotlib.pyplot as plt\n",
    "import seaborn as sns\n",
    "from sklearn.preprocessing import StandardScaler\n",
    "from sklearn.model_selection import KFold, train_test_split\n",
    "from sklearn import metrics\n",
    "from sklearn.linear_model import LogisticRegression\n",
    "from sklearn.tree import DecisionTreeClassifier\n",
    "sns.set()"
   ]
  },
  {
   "cell_type": "markdown",
   "metadata": {},
   "source": [
    "Read the data:"
   ]
  },
  {
   "cell_type": "code",
   "execution_count": 2,
   "metadata": {},
   "outputs": [
    {
     "data": {
      "text/html": [
       "<div>\n",
       "<style scoped>\n",
       "    .dataframe tbody tr th:only-of-type {\n",
       "        vertical-align: middle;\n",
       "    }\n",
       "\n",
       "    .dataframe tbody tr th {\n",
       "        vertical-align: top;\n",
       "    }\n",
       "\n",
       "    .dataframe thead th {\n",
       "        text-align: right;\n",
       "    }\n",
       "</style>\n",
       "<table border=\"1\" class=\"dataframe\">\n",
       "  <thead>\n",
       "    <tr style=\"text-align: right;\">\n",
       "      <th></th>\n",
       "      <th>Name</th>\n",
       "      <th>Season</th>\n",
       "      <th>Ranking</th>\n",
       "      <th>Driving Distance</th>\n",
       "      <th>Driving Accuracy</th>\n",
       "      <th>Club Head Speed</th>\n",
       "      <th>Ball Speed</th>\n",
       "      <th>Spin Rate</th>\n",
       "      <th>Eligible</th>\n",
       "    </tr>\n",
       "  </thead>\n",
       "  <tbody>\n",
       "    <tr>\n",
       "      <th>0</th>\n",
       "      <td>Justin Thomas</td>\n",
       "      <td>2017</td>\n",
       "      <td>1</td>\n",
       "      <td>309.1</td>\n",
       "      <td>54.64</td>\n",
       "      <td>116.52</td>\n",
       "      <td>174.84</td>\n",
       "      <td>2320.1</td>\n",
       "      <td>1.0</td>\n",
       "    </tr>\n",
       "    <tr>\n",
       "      <th>1</th>\n",
       "      <td>Jordan Spieth</td>\n",
       "      <td>2017</td>\n",
       "      <td>2</td>\n",
       "      <td>294.6</td>\n",
       "      <td>58.67</td>\n",
       "      <td>112.66</td>\n",
       "      <td>168.55</td>\n",
       "      <td>2439.6</td>\n",
       "      <td>1.0</td>\n",
       "    </tr>\n",
       "    <tr>\n",
       "      <th>2</th>\n",
       "      <td>Xander Schauffele</td>\n",
       "      <td>2017</td>\n",
       "      <td>3</td>\n",
       "      <td>306.5</td>\n",
       "      <td>58.80</td>\n",
       "      <td>118.33</td>\n",
       "      <td>174.24</td>\n",
       "      <td>2518.8</td>\n",
       "      <td>1.0</td>\n",
       "    </tr>\n",
       "    <tr>\n",
       "      <th>3</th>\n",
       "      <td>Dustin Johnson</td>\n",
       "      <td>2017</td>\n",
       "      <td>4</td>\n",
       "      <td>314.8</td>\n",
       "      <td>54.02</td>\n",
       "      <td>121.45</td>\n",
       "      <td>180.66</td>\n",
       "      <td>2499.9</td>\n",
       "      <td>1.0</td>\n",
       "    </tr>\n",
       "    <tr>\n",
       "      <th>4</th>\n",
       "      <td>Jon Rahm</td>\n",
       "      <td>2017</td>\n",
       "      <td>5</td>\n",
       "      <td>305.3</td>\n",
       "      <td>58.27</td>\n",
       "      <td>116.42</td>\n",
       "      <td>174.53</td>\n",
       "      <td>2193.0</td>\n",
       "      <td>1.0</td>\n",
       "    </tr>\n",
       "  </tbody>\n",
       "</table>\n",
       "</div>"
      ],
      "text/plain": [
       "                Name  Season  Ranking  Driving Distance  Driving Accuracy  \\\n",
       "0      Justin Thomas    2017        1             309.1             54.64   \n",
       "1      Jordan Spieth    2017        2             294.6             58.67   \n",
       "2  Xander Schauffele    2017        3             306.5             58.80   \n",
       "3     Dustin Johnson    2017        4             314.8             54.02   \n",
       "4           Jon Rahm    2017        5             305.3             58.27   \n",
       "\n",
       "   Club Head Speed  Ball Speed  Spin Rate  Eligible  \n",
       "0           116.52      174.84     2320.1       1.0  \n",
       "1           112.66      168.55     2439.6       1.0  \n",
       "2           118.33      174.24     2518.8       1.0  \n",
       "3           121.45      180.66     2499.9       1.0  \n",
       "4           116.42      174.53     2193.0       1.0  "
      ]
     },
     "execution_count": 2,
     "metadata": {},
     "output_type": "execute_result"
    }
   ],
   "source": [
    "df = pd.read_csv(\"../data/pga_data.csv\")\n",
    "df.head(5)"
   ]
  },
  {
   "cell_type": "markdown",
   "metadata": {},
   "source": [
    "Function for data augmentation:"
   ]
  },
  {
   "cell_type": "code",
   "execution_count": 3,
   "metadata": {},
   "outputs": [],
   "source": [
    "def augment_data(X, y):\n",
    "    aug_X = []\n",
    "    aug_y = []\n",
    "    for i in range(X.shape[0]):\n",
    "        if y[i] == 1:\n",
    "            for _ in range(3):\n",
    "                perturbations = np.random.standard_normal(5)\n",
    "                aug_X.append(X[i] + perturbations)\n",
    "                aug_y.append(1)\n",
    "        else:\n",
    "            aug_X.append(X[i])\n",
    "            aug_y.append(y[i])\n",
    "    return np.array(aug_X), np.array(aug_y)"
   ]
  },
  {
   "cell_type": "markdown",
   "metadata": {},
   "source": [
    "### Logistic Regression"
   ]
  },
  {
   "cell_type": "markdown",
   "metadata": {},
   "source": [
    "Cross-validation:"
   ]
  },
  {
   "cell_type": "code",
   "execution_count": 81,
   "metadata": {},
   "outputs": [
    {
     "name": "stdout",
     "output_type": "stream",
     "text": [
      "[[223 109]\n",
      " [103 230]]\n",
      "[[68 19]\n",
      " [ 6 18]]\n",
      "[[234  97]\n",
      " [ 90 246]]\n",
      "[[55 33]\n",
      " [12 11]]\n",
      "[[225 109]\n",
      " [110 217]]\n",
      "[[58 27]\n",
      " [ 5 21]]\n",
      "[[229 108]\n",
      " [110 208]]\n",
      "[[60 22]\n",
      " [ 9 20]]\n",
      "[[243  99]\n",
      " [100 206]]\n",
      "[[50 27]\n",
      " [10 23]]\n"
     ]
    }
   ],
   "source": [
    "X = df.iloc[:, 3:8].to_numpy()\n",
    "y = df.iloc[:, 8].to_numpy()\n",
    "\n",
    "cv = KFold(n_splits=5, random_state=42, shuffle=True)\n",
    "\n",
    "lr_validation_accuracies = []\n",
    "lr_validation_f1s = []\n",
    "\n",
    "lr_training_accuracies = []\n",
    "lr_training_f1s = []\n",
    "\n",
    "X_rem, X_test, y_rem, y_test = train_test_split(X, y, test_size=0.1, random_state=42)\n",
    "\n",
    "for train_index, val_index in cv.split(y_rem):\n",
    "    X_train, X_val = X_rem[train_index], X_rem[val_index]\n",
    "    y_train, y_val = y_rem[train_index], y_rem[val_index]\n",
    "\n",
    "    # AUGMENT THE TRAINING DATA\n",
    "    X_train_aug, y_train_aug = augment_data(X_train, y_train)\n",
    "\n",
    "    # STANDARDIZE\n",
    "    scaler = StandardScaler()\n",
    "    X_train_final = scaler.fit_transform(X_train_aug)\n",
    "    \n",
    "    # MACHINE LEARNING MODEL\n",
    "    lr = LogisticRegression()\n",
    "    lr.fit(X_train_final, y_train_aug)\n",
    "\n",
    "    # TRAINING ERROR\n",
    "    y_pred_train = lr.predict(X_train_final)\n",
    "\n",
    "    accuracy_train = metrics.accuracy_score(y_train_aug, y_pred_train)\n",
    "    f1_train = metrics.f1_score(y_train_aug, y_pred_train)\n",
    "    lr_training_accuracies.append(accuracy_train)\n",
    "    lr_training_f1s.append(f1_train)\n",
    "\n",
    "    # VALIDATION ERROR\n",
    "    X_val_final = scaler.transform(X_val)\n",
    "    y_pred_val = lr.predict(X_val_final)\n",
    "\n",
    "    accuracy = metrics.accuracy_score(y_val, y_pred_val)\n",
    "    f1 = metrics.f1_score(y_val, y_pred_val)\n",
    "    lr_validation_accuracies.append(accuracy)\n",
    "    lr_validation_f1s.append(f1)\n",
    "\n",
    "    # CONFUSION MATRICES\n",
    "    print(metrics.confusion_matrix(y_train_aug, y_pred_train))\n",
    "    print(metrics.confusion_matrix(y_val, y_pred_val))"
   ]
  },
  {
   "cell_type": "code",
   "execution_count": 82,
   "metadata": {},
   "outputs": [
    {
     "data": {
      "image/png": "[encoded data removed]",
      "text/plain": [
       "<Figure size 432x288 with 1 Axes>"
      ]
     },
     "metadata": {},
     "output_type": "display_data"
    }
   ],
   "source": [
    "plt.hist(lr_training_accuracies);"
   ]
  },
  {
   "cell_type": "code",
   "execution_count": 83,
   "metadata": {},
   "outputs": [
    {
     "data": {
      "image/png": "[encoded data removed]",
      "text/plain": [
       "<Figure size 432x288 with 1 Axes>"
      ]
     },
     "metadata": {},
     "output_type": "display_data"
    }
   ],
   "source": [
    "plt.hist(lr_validation_accuracies);"
   ]
  },
  {
   "cell_type": "code",
   "execution_count": 84,
   "metadata": {},
   "outputs": [
    {
     "data": {
      "text/plain": [
       "(0.6808398898558946, 0.5207373720218083)"
      ]
     },
     "execution_count": 84,
     "metadata": {},
     "output_type": "execute_result"
    }
   ],
   "source": [
    "np.mean(lr_training_f1s), np.mean(lr_validation_f1s)"
   ]
  },
  {
   "cell_type": "markdown",
   "metadata": {},
   "source": [
    "Final model performance:"
   ]
  },
  {
   "cell_type": "code",
   "execution_count": 52,
   "metadata": {},
   "outputs": [
    {
     "name": "stdout",
     "output_type": "stream",
     "text": [
      "[[33 15]\n",
      " [ 3 11]]\n"
     ]
    },
    {
     "data": {
      "text/plain": [
       "(0.7096774193548387, 0.55)"
      ]
     },
     "execution_count": 52,
     "metadata": {},
     "output_type": "execute_result"
    }
   ],
   "source": [
    "# AUGMENT THE TRAINING DATA\n",
    "X_train_aug, y_train_aug = augment_data(X_rem, y_rem)\n",
    "\n",
    "# STANDARDIZE\n",
    "scaler = StandardScaler()\n",
    "X_train_final = scaler.fit_transform(X_train_aug)\n",
    "\n",
    "# Machine learning model\n",
    "lr = LogisticRegression()\n",
    "lr.fit(X_train_final, y_train_aug)\n",
    "\n",
    "X_test_final = scaler.transform(X_test)\n",
    "y_pred = lr.predict(X_test_final)\n",
    "\n",
    "accuracy = metrics.accuracy_score(y_test, y_pred)\n",
    "f1 = metrics.f1_score(y_test, y_pred)\n",
    "print(metrics.confusion_matrix(y_test, y_pred))\n",
    "accuracy, f1"
   ]
  },
  {
   "cell_type": "markdown",
   "metadata": {},
   "source": [
    "### Decision Tree"
   ]
  },
  {
   "cell_type": "code",
   "execution_count": 85,
   "metadata": {},
   "outputs": [
    {
     "name": "stdout",
     "output_type": "stream",
     "text": [
      "[[292  40]\n",
      " [168 165]]\n",
      "[[73 14]\n",
      " [18  6]]\n",
      "[[176 155]\n",
      " [ 44 292]]\n",
      "[[46 42]\n",
      " [ 8 15]]\n",
      "[[253  81]\n",
      " [125 202]]\n",
      "[[60 25]\n",
      " [11 15]]\n",
      "[[157 180]\n",
      " [ 28 290]]\n",
      "[[27 55]\n",
      " [ 8 21]]\n",
      "[[168 174]\n",
      " [ 24 282]]\n",
      "[[33 44]\n",
      " [ 7 26]]\n"
     ]
    }
   ],
   "source": [
    "X = df.iloc[:, 3:8].to_numpy()\n",
    "y = df.iloc[:, 8].to_numpy()\n",
    "\n",
    "cv = KFold(n_splits=5, random_state=42, shuffle=True)\n",
    "\n",
    "dt_validation_accuracies = []\n",
    "dt_validation_f1s = []\n",
    "\n",
    "dt_training_accuracies = []\n",
    "dt_training_f1s = []\n",
    "\n",
    "X_rem, X_test, y_rem, y_test = train_test_split(X, y, test_size=0.1, random_state=42)\n",
    "\n",
    "for train_index, val_index in cv.split(y_rem):\n",
    "    X_train, X_val = X_rem[train_index], X_rem[val_index]\n",
    "    y_train, y_val = y_rem[train_index], y_rem[val_index]\n",
    "\n",
    "    # AUGMENT THE TRAINING DATA\n",
    "    X_train_aug, y_train_aug = augment_data(X_train, y_train)\n",
    "\n",
    "    # STANDARDIZE\n",
    "    scaler = StandardScaler()\n",
    "    X_train_final = scaler.fit_transform(X_train_aug)\n",
    "    \n",
    "    # MACHINE LEARNING MODEL\n",
    "    dt = DecisionTreeClassifier(random_state=42, max_depth=3)\n",
    "    dt.fit(X_train_final, y_train_aug)\n",
    "\n",
    "    # TRAINING ERROR\n",
    "    y_pred_train = dt.predict(X_train_final)\n",
    "    accuracy_train = metrics.accuracy_score(y_train_aug, y_pred_train)\n",
    "    f1_train = metrics.f1_score(y_train_aug, y_pred_train)\n",
    "    \n",
    "    dt_training_accuracies.append(accuracy_train)\n",
    "    dt_training_f1s.append(f1_train)\n",
    "\n",
    "    # VALIDATION ERROR\n",
    "    X_val_final = scaler.transform(X_val)\n",
    "    y_pred_val = dt.predict(X_val_final)\n",
    "\n",
    "    accuracy = metrics.accuracy_score(y_val, y_pred_val)\n",
    "    f1 = metrics.f1_score(y_val, y_pred_val)\n",
    "\n",
    "    dt_validation_accuracies.append(accuracy)\n",
    "    dt_validation_f1s.append(f1)\n",
    "\n",
    "    # CONFUSION MATRICES\n",
    "    print(metrics.confusion_matrix(y_train_aug, y_pred_train))\n",
    "    print(metrics.confusion_matrix(y_val, y_pred_val))"
   ]
  },
  {
   "cell_type": "code",
   "execution_count": 86,
   "metadata": {},
   "outputs": [
    {
     "data": {
      "image/png": "[encoded data removed]",
      "text/plain": [
       "<Figure size 432x288 with 1 Axes>"
      ]
     },
     "metadata": {},
     "output_type": "display_data"
    }
   ],
   "source": [
    "plt.hist(dt_training_accuracies);"
   ]
  },
  {
   "cell_type": "code",
   "execution_count": 87,
   "metadata": {},
   "outputs": [
    {
     "data": {
      "image/png": "[encoded data removed]",
      "text/plain": [
       "<Figure size 432x288 with 1 Axes>"
      ]
     },
     "metadata": {},
     "output_type": "display_data"
    }
   ],
   "source": [
    "plt.hist(dt_validation_accuracies);"
   ]
  },
  {
   "cell_type": "code",
   "execution_count": 88,
   "metadata": {},
   "outputs": [
    {
     "data": {
      "text/plain": [
       "(0.6995450737241835, 0.4014254192409533)"
      ]
     },
     "execution_count": 88,
     "metadata": {},
     "output_type": "execute_result"
    }
   ],
   "source": [
    "np.mean(dt_training_f1s), np.mean(dt_validation_f1s)"
   ]
  }
 ],
 "metadata": {
  "interpreter": {
   "hash": "5e3a3624b76a35b559955b45dbd4fa82b9b2fc2add1ce294eb094ab8bdd09462"
  },
  "kernelspec": {
   "display_name": "Python 3.9.7 ('pga-classification')",
   "language": "python",
   "name": "python3"
  },
  "language_info": {
   "codemirror_mode": {
    "name": "ipython",
    "version": 3
   },
   "file_extension": ".py",
   "mimetype": "text/x-python",
   "name": "python",
   "nbconvert_exporter": "python",
   "pygments_lexer": "ipython3",
   "version": "3.8.12"
  },
  "orig_nbformat": 4
 },
 "nbformat": 4,
 "nbformat_minor": 2
}
