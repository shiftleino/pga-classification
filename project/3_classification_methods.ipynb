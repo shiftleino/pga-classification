{
 "cells": [
  {
   "cell_type": "markdown",
   "metadata": {},
   "source": [
    "# Machine Learning on PGA Tour - Classification Methods"
   ]
  },
  {
   "cell_type": "code",
   "execution_count": 26,
   "metadata": {},
   "outputs": [],
   "source": [
    "# Imports\n",
    "import numpy as np\n",
    "import pandas as pd\n",
    "from sklearn import svm\n",
    "from sklearn.model_selection import train_test_split\n",
    "from sklearn.metrics import accuracy_score, f1_score, recall_score, confusion_matrix"
   ]
  },
  {
   "cell_type": "code",
   "execution_count": 27,
   "metadata": {},
   "outputs": [
    {
     "data": {
      "text/html": [
       "<div>\n",
       "<style scoped>\n",
       "    .dataframe tbody tr th:only-of-type {\n",
       "        vertical-align: middle;\n",
       "    }\n",
       "\n",
       "    .dataframe tbody tr th {\n",
       "        vertical-align: top;\n",
       "    }\n",
       "\n",
       "    .dataframe thead th {\n",
       "        text-align: right;\n",
       "    }\n",
       "</style>\n",
       "<table border=\"1\" class=\"dataframe\">\n",
       "  <thead>\n",
       "    <tr style=\"text-align: right;\">\n",
       "      <th></th>\n",
       "      <th>Name</th>\n",
       "      <th>Ranking</th>\n",
       "      <th>Driving Distance</th>\n",
       "      <th>Driving Accuracy</th>\n",
       "      <th>Club Head Speed</th>\n",
       "      <th>Ball Speed</th>\n",
       "      <th>Spin Rate</th>\n",
       "      <th>Eligible</th>\n",
       "    </tr>\n",
       "  </thead>\n",
       "  <tbody>\n",
       "    <tr>\n",
       "      <th>0</th>\n",
       "      <td>Patrick Cantlay</td>\n",
       "      <td>1</td>\n",
       "      <td>301.7</td>\n",
       "      <td>60.28</td>\n",
       "      <td>116.03</td>\n",
       "      <td>174.53</td>\n",
       "      <td>2397.4</td>\n",
       "      <td>1.0</td>\n",
       "    </tr>\n",
       "    <tr>\n",
       "      <th>1</th>\n",
       "      <td>Jon Rahm</td>\n",
       "      <td>2</td>\n",
       "      <td>307.7</td>\n",
       "      <td>63.52</td>\n",
       "      <td>118.23</td>\n",
       "      <td>177.44</td>\n",
       "      <td>2348.7</td>\n",
       "      <td>1.0</td>\n",
       "    </tr>\n",
       "    <tr>\n",
       "      <th>2</th>\n",
       "      <td>Kevin Na</td>\n",
       "      <td>3</td>\n",
       "      <td>288.1</td>\n",
       "      <td>66.73</td>\n",
       "      <td>112.39</td>\n",
       "      <td>164.79</td>\n",
       "      <td>2805.7</td>\n",
       "      <td>1.0</td>\n",
       "    </tr>\n",
       "    <tr>\n",
       "      <th>3</th>\n",
       "      <td>Justin Thomas</td>\n",
       "      <td>4</td>\n",
       "      <td>302.7</td>\n",
       "      <td>55.68</td>\n",
       "      <td>117.08</td>\n",
       "      <td>176.24</td>\n",
       "      <td>2281.8</td>\n",
       "      <td>1.0</td>\n",
       "    </tr>\n",
       "    <tr>\n",
       "      <th>4</th>\n",
       "      <td>Viktor Hovland</td>\n",
       "      <td>5</td>\n",
       "      <td>300.5</td>\n",
       "      <td>62.47</td>\n",
       "      <td>116.50</td>\n",
       "      <td>173.60</td>\n",
       "      <td>2389.4</td>\n",
       "      <td>1.0</td>\n",
       "    </tr>\n",
       "    <tr>\n",
       "      <th>...</th>\n",
       "      <td>...</td>\n",
       "      <td>...</td>\n",
       "      <td>...</td>\n",
       "      <td>...</td>\n",
       "      <td>...</td>\n",
       "      <td>...</td>\n",
       "      <td>...</td>\n",
       "      <td>...</td>\n",
       "    </tr>\n",
       "    <tr>\n",
       "      <th>120</th>\n",
       "      <td>C.T. Pan</td>\n",
       "      <td>121</td>\n",
       "      <td>296.3</td>\n",
       "      <td>61.03</td>\n",
       "      <td>111.20</td>\n",
       "      <td>167.34</td>\n",
       "      <td>2129.2</td>\n",
       "      <td>-1.0</td>\n",
       "    </tr>\n",
       "    <tr>\n",
       "      <th>121</th>\n",
       "      <td>Matt Kuchar</td>\n",
       "      <td>122</td>\n",
       "      <td>288.0</td>\n",
       "      <td>65.81</td>\n",
       "      <td>108.60</td>\n",
       "      <td>162.18</td>\n",
       "      <td>2419.4</td>\n",
       "      <td>-1.0</td>\n",
       "    </tr>\n",
       "    <tr>\n",
       "      <th>122</th>\n",
       "      <td>Brice Garnett</td>\n",
       "      <td>123</td>\n",
       "      <td>288.1</td>\n",
       "      <td>70.86</td>\n",
       "      <td>109.53</td>\n",
       "      <td>164.71</td>\n",
       "      <td>2539.5</td>\n",
       "      <td>-1.0</td>\n",
       "    </tr>\n",
       "    <tr>\n",
       "      <th>123</th>\n",
       "      <td>Scott Stallings</td>\n",
       "      <td>124</td>\n",
       "      <td>298.2</td>\n",
       "      <td>58.83</td>\n",
       "      <td>115.96</td>\n",
       "      <td>173.80</td>\n",
       "      <td>2516.0</td>\n",
       "      <td>-1.0</td>\n",
       "    </tr>\n",
       "    <tr>\n",
       "      <th>124</th>\n",
       "      <td>Chesson Hadley</td>\n",
       "      <td>125</td>\n",
       "      <td>297.9</td>\n",
       "      <td>56.13</td>\n",
       "      <td>114.30</td>\n",
       "      <td>172.24</td>\n",
       "      <td>2506.7</td>\n",
       "      <td>-1.0</td>\n",
       "    </tr>\n",
       "  </tbody>\n",
       "</table>\n",
       "<p>125 rows × 8 columns</p>\n",
       "</div>"
      ],
      "text/plain": [
       "                Name  Ranking  Driving Distance  Driving Accuracy  \\\n",
       "0    Patrick Cantlay        1             301.7             60.28   \n",
       "1           Jon Rahm        2             307.7             63.52   \n",
       "2           Kevin Na        3             288.1             66.73   \n",
       "3      Justin Thomas        4             302.7             55.68   \n",
       "4     Viktor Hovland        5             300.5             62.47   \n",
       "..               ...      ...               ...               ...   \n",
       "120         C.T. Pan      121             296.3             61.03   \n",
       "121      Matt Kuchar      122             288.0             65.81   \n",
       "122    Brice Garnett      123             288.1             70.86   \n",
       "123  Scott Stallings      124             298.2             58.83   \n",
       "124   Chesson Hadley      125             297.9             56.13   \n",
       "\n",
       "     Club Head Speed  Ball Speed  Spin Rate  Eligible  \n",
       "0             116.03      174.53     2397.4       1.0  \n",
       "1             118.23      177.44     2348.7       1.0  \n",
       "2             112.39      164.79     2805.7       1.0  \n",
       "3             117.08      176.24     2281.8       1.0  \n",
       "4             116.50      173.60     2389.4       1.0  \n",
       "..               ...         ...        ...       ...  \n",
       "120           111.20      167.34     2129.2      -1.0  \n",
       "121           108.60      162.18     2419.4      -1.0  \n",
       "122           109.53      164.71     2539.5      -1.0  \n",
       "123           115.96      173.80     2516.0      -1.0  \n",
       "124           114.30      172.24     2506.7      -1.0  \n",
       "\n",
       "[125 rows x 8 columns]"
      ]
     },
     "execution_count": 27,
     "metadata": {},
     "output_type": "execute_result"
    }
   ],
   "source": [
    "df = pd.read_csv(\"../data/pga_data.csv\")\n",
    "df"
   ]
  },
  {
   "cell_type": "code",
   "execution_count": 28,
   "metadata": {},
   "outputs": [
    {
     "data": {
      "text/plain": [
       "array([[8, 4],\n",
       "       [1, 6]])"
      ]
     },
     "execution_count": 28,
     "metadata": {},
     "output_type": "execute_result"
    }
   ],
   "source": [
    "X = np.concatenate((df.iloc[:30, 2:7].to_numpy(),df.iloc[:30, 2:7].to_numpy(), df.iloc[:30, 2:7].to_numpy()))\n",
    "y = np.concatenate((df.iloc[:30, 7].to_numpy(), df.iloc[:30, 7].to_numpy(), df.iloc[:30, 7].to_numpy()))\n",
    "X2 = df.iloc[30:, 2:7].to_numpy()\n",
    "y2 = df.iloc[30:, 7].to_numpy()\n",
    "\n",
    "X_new = np.vstack((X, X2))\n",
    "y_new = np.hstack((y, y2))\n",
    "\n",
    "X_train, X_test, y_train, y_test = train_test_split(X_new, y_new, test_size=0.1)\n",
    "clf = svm.SVC()\n",
    "clf.fit(X_train, y_train)\n",
    "y_pred = clf.predict(X_test)\n",
    "confusion_matrix(y_test, y_pred)"
   ]
  },
  {
   "cell_type": "code",
   "execution_count": 30,
   "metadata": {},
   "outputs": [
    {
     "data": {
      "text/plain": [
       "0.7058823529411764"
      ]
     },
     "execution_count": 30,
     "metadata": {},
     "output_type": "execute_result"
    }
   ],
   "source": [
    "f1_score(y_test, y_pred)"
   ]
  },
  {
   "cell_type": "code",
   "execution_count": 31,
   "metadata": {},
   "outputs": [
    {
     "data": {
      "text/plain": [
       "0.7368421052631579"
      ]
     },
     "execution_count": 31,
     "metadata": {},
     "output_type": "execute_result"
    }
   ],
   "source": [
    "accuracy_score(y_test, y_pred)"
   ]
  }
 ],
 "metadata": {
  "interpreter": {
   "hash": "c3b6320f3e68e81e8a9f5d8c8429fa6949b9057add4f134bb8dba11f1d3dec83"
  },
  "kernelspec": {
   "display_name": "Python 3.8.12 ('pga-tour-ml')",
   "language": "python",
   "name": "python3"
  },
  "language_info": {
   "codemirror_mode": {
    "name": "ipython",
    "version": 3
   },
   "file_extension": ".py",
   "mimetype": "text/x-python",
   "name": "python",
   "nbconvert_exporter": "python",
   "pygments_lexer": "ipython3",
   "version": "3.8.12"
  },
  "orig_nbformat": 4
 },
 "nbformat": 4,
 "nbformat_minor": 2
}
