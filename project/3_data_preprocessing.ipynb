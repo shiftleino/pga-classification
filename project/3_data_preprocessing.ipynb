{
 "cells": [
  {
   "cell_type": "markdown",
   "metadata": {},
   "source": [
    "# Machine Learning on PGA Tour - Data Preprocessing"
   ]
  },
  {
   "cell_type": "markdown",
   "metadata": {},
   "source": [
    "In this notebook we will do some data preprocessing before we apply this data to our classification models."
   ]
  },
  {
   "cell_type": "code",
   "execution_count": 1,
   "metadata": {},
   "outputs": [],
   "source": [
    "# IMPORTS\n",
    "import pandas as pd\n",
    "import numpy as np\n",
    "from sklearn.preprocessing import StandardScaler\n",
    "from sklearn.model_selection import KFold"
   ]
  },
  {
   "cell_type": "code",
   "execution_count": 2,
   "metadata": {},
   "outputs": [
    {
     "data": {
      "text/html": [
       "<div>\n",
       "<style scoped>\n",
       "    .dataframe tbody tr th:only-of-type {\n",
       "        vertical-align: middle;\n",
       "    }\n",
       "\n",
       "    .dataframe tbody tr th {\n",
       "        vertical-align: top;\n",
       "    }\n",
       "\n",
       "    .dataframe thead th {\n",
       "        text-align: right;\n",
       "    }\n",
       "</style>\n",
       "<table border=\"1\" class=\"dataframe\">\n",
       "  <thead>\n",
       "    <tr style=\"text-align: right;\">\n",
       "      <th></th>\n",
       "      <th>Name</th>\n",
       "      <th>Season</th>\n",
       "      <th>Ranking</th>\n",
       "      <th>Driving Distance</th>\n",
       "      <th>Driving Accuracy</th>\n",
       "      <th>Club Head Speed</th>\n",
       "      <th>Ball Speed</th>\n",
       "      <th>Spin Rate</th>\n",
       "      <th>Eligible</th>\n",
       "    </tr>\n",
       "  </thead>\n",
       "  <tbody>\n",
       "    <tr>\n",
       "      <th>0</th>\n",
       "      <td>Rory McIlroy</td>\n",
       "      <td>2016</td>\n",
       "      <td>1</td>\n",
       "      <td>304.9</td>\n",
       "      <td>61.80</td>\n",
       "      <td>119.62</td>\n",
       "      <td>179.01</td>\n",
       "      <td>2435.6</td>\n",
       "      <td>1.0</td>\n",
       "    </tr>\n",
       "    <tr>\n",
       "      <th>1</th>\n",
       "      <td>Dustin Johnson</td>\n",
       "      <td>2016</td>\n",
       "      <td>2</td>\n",
       "      <td>313.9</td>\n",
       "      <td>56.85</td>\n",
       "      <td>122.38</td>\n",
       "      <td>181.75</td>\n",
       "      <td>2685.6</td>\n",
       "      <td>1.0</td>\n",
       "    </tr>\n",
       "    <tr>\n",
       "      <th>2</th>\n",
       "      <td>Patrick Reed</td>\n",
       "      <td>2016</td>\n",
       "      <td>3</td>\n",
       "      <td>296.7</td>\n",
       "      <td>56.68</td>\n",
       "      <td>118.37</td>\n",
       "      <td>172.95</td>\n",
       "      <td>2936.1</td>\n",
       "      <td>1.0</td>\n",
       "    </tr>\n",
       "    <tr>\n",
       "      <th>3</th>\n",
       "      <td>Adam Scott</td>\n",
       "      <td>2016</td>\n",
       "      <td>4</td>\n",
       "      <td>303.9</td>\n",
       "      <td>55.71</td>\n",
       "      <td>119.05</td>\n",
       "      <td>179.21</td>\n",
       "      <td>2507.4</td>\n",
       "      <td>1.0</td>\n",
       "    </tr>\n",
       "    <tr>\n",
       "      <th>4</th>\n",
       "      <td>Paul Casey</td>\n",
       "      <td>2016</td>\n",
       "      <td>5</td>\n",
       "      <td>294.0</td>\n",
       "      <td>64.41</td>\n",
       "      <td>117.46</td>\n",
       "      <td>173.41</td>\n",
       "      <td>2473.3</td>\n",
       "      <td>1.0</td>\n",
       "    </tr>\n",
       "    <tr>\n",
       "      <th>...</th>\n",
       "      <td>...</td>\n",
       "      <td>...</td>\n",
       "      <td>...</td>\n",
       "      <td>...</td>\n",
       "      <td>...</td>\n",
       "      <td>...</td>\n",
       "      <td>...</td>\n",
       "      <td>...</td>\n",
       "      <td>...</td>\n",
       "    </tr>\n",
       "    <tr>\n",
       "      <th>734</th>\n",
       "      <td>C.T. Pan</td>\n",
       "      <td>2021</td>\n",
       "      <td>121</td>\n",
       "      <td>296.3</td>\n",
       "      <td>61.03</td>\n",
       "      <td>111.20</td>\n",
       "      <td>167.34</td>\n",
       "      <td>2129.2</td>\n",
       "      <td>-1.0</td>\n",
       "    </tr>\n",
       "    <tr>\n",
       "      <th>735</th>\n",
       "      <td>Matt Kuchar</td>\n",
       "      <td>2021</td>\n",
       "      <td>122</td>\n",
       "      <td>288.0</td>\n",
       "      <td>65.81</td>\n",
       "      <td>108.60</td>\n",
       "      <td>162.18</td>\n",
       "      <td>2419.4</td>\n",
       "      <td>-1.0</td>\n",
       "    </tr>\n",
       "    <tr>\n",
       "      <th>736</th>\n",
       "      <td>Brice Garnett</td>\n",
       "      <td>2021</td>\n",
       "      <td>123</td>\n",
       "      <td>288.1</td>\n",
       "      <td>70.86</td>\n",
       "      <td>109.53</td>\n",
       "      <td>164.71</td>\n",
       "      <td>2539.5</td>\n",
       "      <td>-1.0</td>\n",
       "    </tr>\n",
       "    <tr>\n",
       "      <th>737</th>\n",
       "      <td>Scott Stallings</td>\n",
       "      <td>2021</td>\n",
       "      <td>124</td>\n",
       "      <td>298.2</td>\n",
       "      <td>58.83</td>\n",
       "      <td>115.96</td>\n",
       "      <td>173.80</td>\n",
       "      <td>2516.0</td>\n",
       "      <td>-1.0</td>\n",
       "    </tr>\n",
       "    <tr>\n",
       "      <th>738</th>\n",
       "      <td>Chesson Hadley</td>\n",
       "      <td>2021</td>\n",
       "      <td>125</td>\n",
       "      <td>297.9</td>\n",
       "      <td>56.13</td>\n",
       "      <td>114.30</td>\n",
       "      <td>172.24</td>\n",
       "      <td>2506.7</td>\n",
       "      <td>-1.0</td>\n",
       "    </tr>\n",
       "  </tbody>\n",
       "</table>\n",
       "<p>739 rows × 9 columns</p>\n",
       "</div>"
      ],
      "text/plain": [
       "                Name  Season  Ranking  Driving Distance  Driving Accuracy  \\\n",
       "0       Rory McIlroy    2016        1             304.9             61.80   \n",
       "1     Dustin Johnson    2016        2             313.9             56.85   \n",
       "2       Patrick Reed    2016        3             296.7             56.68   \n",
       "3         Adam Scott    2016        4             303.9             55.71   \n",
       "4         Paul Casey    2016        5             294.0             64.41   \n",
       "..               ...     ...      ...               ...               ...   \n",
       "734         C.T. Pan    2021      121             296.3             61.03   \n",
       "735      Matt Kuchar    2021      122             288.0             65.81   \n",
       "736    Brice Garnett    2021      123             288.1             70.86   \n",
       "737  Scott Stallings    2021      124             298.2             58.83   \n",
       "738   Chesson Hadley    2021      125             297.9             56.13   \n",
       "\n",
       "     Club Head Speed  Ball Speed  Spin Rate  Eligible  \n",
       "0             119.62      179.01     2435.6       1.0  \n",
       "1             122.38      181.75     2685.6       1.0  \n",
       "2             118.37      172.95     2936.1       1.0  \n",
       "3             119.05      179.21     2507.4       1.0  \n",
       "4             117.46      173.41     2473.3       1.0  \n",
       "..               ...         ...        ...       ...  \n",
       "734           111.20      167.34     2129.2      -1.0  \n",
       "735           108.60      162.18     2419.4      -1.0  \n",
       "736           109.53      164.71     2539.5      -1.0  \n",
       "737           115.96      173.80     2516.0      -1.0  \n",
       "738           114.30      172.24     2506.7      -1.0  \n",
       "\n",
       "[739 rows x 9 columns]"
      ]
     },
     "execution_count": 2,
     "metadata": {},
     "output_type": "execute_result"
    }
   ],
   "source": [
    "df = pd.read_csv(\"../data/pga_data.csv\")\n",
    "df"
   ]
  },
  {
   "cell_type": "markdown",
   "metadata": {},
   "source": [
    "First we will look how skewed our classes are in our data set."
   ]
  },
  {
   "cell_type": "code",
   "execution_count": 3,
   "metadata": {},
   "outputs": [
    {
     "name": "stdout",
     "output_type": "stream",
     "text": [
      "Number of eligible: 179\n",
      "Number of not eligible: 560\n"
     ]
    }
   ],
   "source": [
    "pos_amount = len(df[df[\"Eligible\"] == 1].index)\n",
    "neg_amount = len(df[df[\"Eligible\"] == -1].index)\n",
    "print(f\"Number of eligible: {pos_amount}\")\n",
    "print(f\"Number of not eligible: {neg_amount}\")"
   ]
  },
  {
   "cell_type": "markdown",
   "metadata": {},
   "source": [
    "As we can see, our data set is heavily skewed as we have over three times more data points in the other class (negative class). This could lead to a situation where the classifier algorithm classifies every data point to the dominating class, thus in our case leading to a high accuracy but small (or zero) precision and recall. Therefore, we will use some data augmentation to balance the data."
   ]
  },
  {
   "cell_type": "code",
   "execution_count": 4,
   "metadata": {},
   "outputs": [],
   "source": [
    "def augment_data(X):\n",
    "    aug_X = []\n",
    "    aug_y = []\n",
    "    for i in range(X.shape[0]):\n",
    "        for _ in range(3):\n",
    "            perturbations = np.random.standard_normal(5)\n",
    "            aug_X.append(X[i] + perturbations)\n",
    "            aug_y.append(1)\n",
    "    return np.array(aug_X), np.array(aug_y)"
   ]
  },
  {
   "cell_type": "code",
   "execution_count": 5,
   "metadata": {},
   "outputs": [
    {
     "data": {
      "text/plain": [
       "537"
      ]
     },
     "execution_count": 5,
     "metadata": {},
     "output_type": "execute_result"
    }
   ],
   "source": [
    "X_pos = df[df[\"Eligible\"] == 1].iloc[:, 3:8].to_numpy()\n",
    "y_pos = df[df[\"Eligible\"] == 1].iloc[:, 8].to_numpy()\n",
    "X_aug, y_aug = augment_data(X_pos)\n",
    "X_aug.shape[0]"
   ]
  },
  {
   "cell_type": "markdown",
   "metadata": {},
   "source": [
    "As the range of our feature values differ quite a lot, I also used standardization on the data. This standardization is first used on the training data and then with the training parameters on validation/testing data"
   ]
  },
  {
   "cell_type": "code",
   "execution_count": 6,
   "metadata": {},
   "outputs": [
    {
     "data": {
      "text/plain": [
       "array([[ 0.40767232, -0.07066548,  0.92159943,  0.7388761 , -0.62174926],\n",
       "       [ 0.43542156,  0.10241775,  0.95507728,  1.11700156, -0.63120485],\n",
       "       [ 0.58292314,  0.12316052,  0.6698381 ,  0.94470415, -0.62743871],\n",
       "       ...,\n",
       "       [ 1.26870666, -0.99303086,  0.68182268,  0.94657959, -0.52594978],\n",
       "       [ 1.08137675, -1.08534859,  0.49851873,  0.86831544, -0.52300911],\n",
       "       [ 1.10410275, -1.20352787,  0.86403682,  0.77442501, -0.52585952]])"
      ]
     },
     "execution_count": 6,
     "metadata": {},
     "output_type": "execute_result"
    }
   ],
   "source": [
    "scaler = StandardScaler()\n",
    "X_scaled = scaler.fit_transform(X_aug)\n",
    "# later use scaler.transform(X_test)\n",
    "X_scaled"
   ]
  },
  {
   "cell_type": "markdown",
   "metadata": {},
   "source": [
    "I used k-fold cross-validation in the validation phase of the model."
   ]
  },
  {
   "cell_type": "code",
   "execution_count": 7,
   "metadata": {},
   "outputs": [],
   "source": [
    "cv = KFold(n_splits=20, random_state=42, shuffle=True)"
   ]
  }
 ],
 "metadata": {
  "interpreter": {
   "hash": "5e3a3624b76a35b559955b45dbd4fa82b9b2fc2add1ce294eb094ab8bdd09462"
  },
  "kernelspec": {
   "display_name": "Python 3.9.7 ('pga-classification')",
   "language": "python",
   "name": "python3"
  },
  "language_info": {
   "codemirror_mode": {
    "name": "ipython",
    "version": 3
   },
   "file_extension": ".py",
   "mimetype": "text/x-python",
   "name": "python",
   "nbconvert_exporter": "python",
   "pygments_lexer": "ipython3",
   "version": "3.8.12"
  },
  "orig_nbformat": 4
 },
 "nbformat": 4,
 "nbformat_minor": 2
}
