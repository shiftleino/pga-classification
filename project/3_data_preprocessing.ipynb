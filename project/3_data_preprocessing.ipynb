{
 "cells": [
  {
   "cell_type": "markdown",
   "metadata": {},
   "source": [
    "# Machine Learning on PGA Tour - Data Preprocessing"
   ]
  },
  {
   "cell_type": "markdown",
   "metadata": {},
   "source": [
    "In this notebook we will do some data preprocessing before we apply this data to our classification models."
   ]
  },
  {
   "cell_type": "code",
   "execution_count": 88,
   "metadata": {},
   "outputs": [],
   "source": [
    "# IMPORTS\n",
    "import pandas as pd\n",
    "import numpy as np\n",
    "from sklearn.preprocessing import StandardScaler\n",
    "from sklearn.model_selection import KFold"
   ]
  },
  {
   "cell_type": "code",
   "execution_count": 2,
   "metadata": {},
   "outputs": [
    {
     "data": {
      "text/html": [
       "<div>\n",
       "<style scoped>\n",
       "    .dataframe tbody tr th:only-of-type {\n",
       "        vertical-align: middle;\n",
       "    }\n",
       "\n",
       "    .dataframe tbody tr th {\n",
       "        vertical-align: top;\n",
       "    }\n",
       "\n",
       "    .dataframe thead th {\n",
       "        text-align: right;\n",
       "    }\n",
       "</style>\n",
       "<table border=\"1\" class=\"dataframe\">\n",
       "  <thead>\n",
       "    <tr style=\"text-align: right;\">\n",
       "      <th></th>\n",
       "      <th>Name</th>\n",
       "      <th>Season</th>\n",
       "      <th>Ranking</th>\n",
       "      <th>Driving Distance</th>\n",
       "      <th>Driving Accuracy</th>\n",
       "      <th>Club Head Speed</th>\n",
       "      <th>Ball Speed</th>\n",
       "      <th>Spin Rate</th>\n",
       "      <th>Eligible</th>\n",
       "    </tr>\n",
       "  </thead>\n",
       "  <tbody>\n",
       "    <tr>\n",
       "      <th>0</th>\n",
       "      <td>Justin Thomas</td>\n",
       "      <td>2017</td>\n",
       "      <td>1</td>\n",
       "      <td>309.1</td>\n",
       "      <td>54.64</td>\n",
       "      <td>116.52</td>\n",
       "      <td>174.84</td>\n",
       "      <td>2320.1</td>\n",
       "      <td>1.0</td>\n",
       "    </tr>\n",
       "    <tr>\n",
       "      <th>1</th>\n",
       "      <td>Jordan Spieth</td>\n",
       "      <td>2017</td>\n",
       "      <td>2</td>\n",
       "      <td>294.6</td>\n",
       "      <td>58.67</td>\n",
       "      <td>112.66</td>\n",
       "      <td>168.55</td>\n",
       "      <td>2439.6</td>\n",
       "      <td>1.0</td>\n",
       "    </tr>\n",
       "    <tr>\n",
       "      <th>2</th>\n",
       "      <td>Xander Schauffele</td>\n",
       "      <td>2017</td>\n",
       "      <td>3</td>\n",
       "      <td>306.5</td>\n",
       "      <td>58.80</td>\n",
       "      <td>118.33</td>\n",
       "      <td>174.24</td>\n",
       "      <td>2518.8</td>\n",
       "      <td>1.0</td>\n",
       "    </tr>\n",
       "    <tr>\n",
       "      <th>3</th>\n",
       "      <td>Dustin Johnson</td>\n",
       "      <td>2017</td>\n",
       "      <td>4</td>\n",
       "      <td>314.8</td>\n",
       "      <td>54.02</td>\n",
       "      <td>121.45</td>\n",
       "      <td>180.66</td>\n",
       "      <td>2499.9</td>\n",
       "      <td>1.0</td>\n",
       "    </tr>\n",
       "    <tr>\n",
       "      <th>4</th>\n",
       "      <td>Jon Rahm</td>\n",
       "      <td>2017</td>\n",
       "      <td>5</td>\n",
       "      <td>305.3</td>\n",
       "      <td>58.27</td>\n",
       "      <td>116.42</td>\n",
       "      <td>174.53</td>\n",
       "      <td>2193.0</td>\n",
       "      <td>1.0</td>\n",
       "    </tr>\n",
       "    <tr>\n",
       "      <th>...</th>\n",
       "      <td>...</td>\n",
       "      <td>...</td>\n",
       "      <td>...</td>\n",
       "      <td>...</td>\n",
       "      <td>...</td>\n",
       "      <td>...</td>\n",
       "      <td>...</td>\n",
       "      <td>...</td>\n",
       "      <td>...</td>\n",
       "    </tr>\n",
       "    <tr>\n",
       "      <th>611</th>\n",
       "      <td>C.T. Pan</td>\n",
       "      <td>2021</td>\n",
       "      <td>121</td>\n",
       "      <td>296.3</td>\n",
       "      <td>61.03</td>\n",
       "      <td>111.20</td>\n",
       "      <td>167.34</td>\n",
       "      <td>2129.2</td>\n",
       "      <td>-1.0</td>\n",
       "    </tr>\n",
       "    <tr>\n",
       "      <th>612</th>\n",
       "      <td>Matt Kuchar</td>\n",
       "      <td>2021</td>\n",
       "      <td>122</td>\n",
       "      <td>288.0</td>\n",
       "      <td>65.81</td>\n",
       "      <td>108.60</td>\n",
       "      <td>162.18</td>\n",
       "      <td>2419.4</td>\n",
       "      <td>-1.0</td>\n",
       "    </tr>\n",
       "    <tr>\n",
       "      <th>613</th>\n",
       "      <td>Brice Garnett</td>\n",
       "      <td>2021</td>\n",
       "      <td>123</td>\n",
       "      <td>288.1</td>\n",
       "      <td>70.86</td>\n",
       "      <td>109.53</td>\n",
       "      <td>164.71</td>\n",
       "      <td>2539.5</td>\n",
       "      <td>-1.0</td>\n",
       "    </tr>\n",
       "    <tr>\n",
       "      <th>614</th>\n",
       "      <td>Scott Stallings</td>\n",
       "      <td>2021</td>\n",
       "      <td>124</td>\n",
       "      <td>298.2</td>\n",
       "      <td>58.83</td>\n",
       "      <td>115.96</td>\n",
       "      <td>173.80</td>\n",
       "      <td>2516.0</td>\n",
       "      <td>-1.0</td>\n",
       "    </tr>\n",
       "    <tr>\n",
       "      <th>615</th>\n",
       "      <td>Chesson Hadley</td>\n",
       "      <td>2021</td>\n",
       "      <td>125</td>\n",
       "      <td>297.9</td>\n",
       "      <td>56.13</td>\n",
       "      <td>114.30</td>\n",
       "      <td>172.24</td>\n",
       "      <td>2506.7</td>\n",
       "      <td>-1.0</td>\n",
       "    </tr>\n",
       "  </tbody>\n",
       "</table>\n",
       "<p>616 rows × 9 columns</p>\n",
       "</div>"
      ],
      "text/plain": [
       "                  Name  Season  Ranking  Driving Distance  Driving Accuracy  \\\n",
       "0        Justin Thomas    2017        1             309.1             54.64   \n",
       "1        Jordan Spieth    2017        2             294.6             58.67   \n",
       "2    Xander Schauffele    2017        3             306.5             58.80   \n",
       "3       Dustin Johnson    2017        4             314.8             54.02   \n",
       "4             Jon Rahm    2017        5             305.3             58.27   \n",
       "..                 ...     ...      ...               ...               ...   \n",
       "611           C.T. Pan    2021      121             296.3             61.03   \n",
       "612        Matt Kuchar    2021      122             288.0             65.81   \n",
       "613      Brice Garnett    2021      123             288.1             70.86   \n",
       "614    Scott Stallings    2021      124             298.2             58.83   \n",
       "615     Chesson Hadley    2021      125             297.9             56.13   \n",
       "\n",
       "     Club Head Speed  Ball Speed  Spin Rate  Eligible  \n",
       "0             116.52      174.84     2320.1       1.0  \n",
       "1             112.66      168.55     2439.6       1.0  \n",
       "2             118.33      174.24     2518.8       1.0  \n",
       "3             121.45      180.66     2499.9       1.0  \n",
       "4             116.42      174.53     2193.0       1.0  \n",
       "..               ...         ...        ...       ...  \n",
       "611           111.20      167.34     2129.2      -1.0  \n",
       "612           108.60      162.18     2419.4      -1.0  \n",
       "613           109.53      164.71     2539.5      -1.0  \n",
       "614           115.96      173.80     2516.0      -1.0  \n",
       "615           114.30      172.24     2506.7      -1.0  \n",
       "\n",
       "[616 rows x 9 columns]"
      ]
     },
     "execution_count": 2,
     "metadata": {},
     "output_type": "execute_result"
    }
   ],
   "source": [
    "df = pd.read_csv(\"../data/pga_data.csv\")\n",
    "df"
   ]
  },
  {
   "cell_type": "markdown",
   "metadata": {},
   "source": [
    "First we will look how skewed our classes are in our data set."
   ]
  },
  {
   "cell_type": "code",
   "execution_count": 3,
   "metadata": {},
   "outputs": [
    {
     "name": "stdout",
     "output_type": "stream",
     "text": [
      "Number of eligible: 149\n",
      "Number of not eligible: 467\n"
     ]
    }
   ],
   "source": [
    "pos_amount = len(df[df[\"Eligible\"] == 1].index)\n",
    "neg_amount = len(df[df[\"Eligible\"] == -1].index)\n",
    "print(f\"Number of eligible: {pos_amount}\")\n",
    "print(f\"Number of not eligible: {neg_amount}\")"
   ]
  },
  {
   "cell_type": "markdown",
   "metadata": {},
   "source": [
    "As we can see, our data set is heavily skewed as we have over three times more data points in the other class (negative class). This could lead to a situation where the classifier algorithm classifies every data point to the dominating class, thus in our case leading to a high accuracy but small (or zero) precision and recall. Therefore, we will use some data augmentation to balance the data."
   ]
  },
  {
   "cell_type": "code",
   "execution_count": 72,
   "metadata": {},
   "outputs": [],
   "source": [
    "def augment_data(X):\n",
    "    aug_X = []\n",
    "    aug_y = []\n",
    "    for i in range(X.shape[0]):\n",
    "        for _ in range(3):\n",
    "            perturbations = np.random.standard_normal(5)\n",
    "            aug_X.append(X[i] + perturbations)\n",
    "            aug_y.append(1)\n",
    "    return np.array(aug_X), np.array(aug_y)"
   ]
  },
  {
   "cell_type": "code",
   "execution_count": 82,
   "metadata": {},
   "outputs": [
    {
     "data": {
      "text/plain": [
       "447"
      ]
     },
     "execution_count": 82,
     "metadata": {},
     "output_type": "execute_result"
    }
   ],
   "source": [
    "X_pos = df[df[\"Eligible\"] == 1].iloc[:, 3:8].to_numpy()\n",
    "y_pos = df[df[\"Eligible\"] == 1].iloc[:, 8].to_numpy()\n",
    "X_aug, y_aug = augment_data(X_pos)\n",
    "X_aug.shape[0]"
   ]
  },
  {
   "cell_type": "markdown",
   "metadata": {},
   "source": [
    "As the range of our feature values differ quite a lot, I also used standardization on the data. This standardization is first used on the training data and then with the training parameters on validation/testing data"
   ]
  },
  {
   "cell_type": "code",
   "execution_count": 86,
   "metadata": {},
   "outputs": [
    {
     "data": {
      "text/plain": [
       "array([[ 1.02038113, -1.57294431,  0.02710474,  0.15276793, -1.1746936 ],\n",
       "       [ 1.1751274 , -1.15583169, -0.53643043,  0.26857336, -1.16318628],\n",
       "       [ 0.925306  , -1.5673207 ,  0.10255744,  0.31230229, -1.171197  ],\n",
       "       ...,\n",
       "       [ 0.81899994, -1.20794155,  0.67821711,  0.87641008, -0.53228462],\n",
       "       [ 0.9903229 , -1.18353483,  0.89605884,  0.82532824, -0.54137369],\n",
       "       [ 0.95107153, -0.91194904,  0.64776378,  0.98770068, -0.52950311]])"
      ]
     },
     "execution_count": 86,
     "metadata": {},
     "output_type": "execute_result"
    }
   ],
   "source": [
    "scaler = StandardScaler()\n",
    "X_scaled = scaler.fit_transform(X_aug)\n",
    "# later use scaler.transform(X_test)\n",
    "X_scaled"
   ]
  },
  {
   "cell_type": "markdown",
   "metadata": {},
   "source": [
    "I used k-fold cross-validation in the validation phase of the model."
   ]
  },
  {
   "cell_type": "code",
   "execution_count": 89,
   "metadata": {},
   "outputs": [],
   "source": [
    "cv = KFold(n_splits=20, random_state=42, shuffle=True)"
   ]
  }
 ],
 "metadata": {
  "interpreter": {
   "hash": "5e3a3624b76a35b559955b45dbd4fa82b9b2fc2add1ce294eb094ab8bdd09462"
  },
  "kernelspec": {
   "display_name": "Python 3.9.7 ('pga-classification')",
   "language": "python",
   "name": "python3"
  },
  "language_info": {
   "codemirror_mode": {
    "name": "ipython",
    "version": 3
   },
   "file_extension": ".py",
   "mimetype": "text/x-python",
   "name": "python",
   "nbconvert_exporter": "python",
   "pygments_lexer": "ipython3",
   "version": "3.9.7"
  },
  "orig_nbformat": 4
 },
 "nbformat": 4,
 "nbformat_minor": 2
}
